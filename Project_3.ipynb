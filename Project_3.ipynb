{
  "nbformat": 4,
  "nbformat_minor": 0,
  "metadata": {
    "colab": {
      "name": "Project 3.ipynb",
      "provenance": []
    },
    "kernelspec": {
      "name": "python3",
      "display_name": "Python 3"
    },
    "language_info": {
      "name": "python"
    }
  },
  "cells": [
    {
      "cell_type": "markdown",
      "metadata": {
        "id": "vnvQR_bORDT1"
      },
      "source": [
        "## Health Insurance Beneficiaries in the US\n",
        "##### Ritika Chopra (rc47535)\n",
        "Time and time again, health care in the United States has been criticized for their issues related to equitable access and treatment across groups. This report uses health insurance beneficiary data in the United States to get a basic understanding of whether health care is equitable across sex, previous health history, and regions in the US."
      ]
    },
    {
      "cell_type": "code",
      "metadata": {
        "id": "Lad_pdoAgIaf"
      },
      "source": [
        "#import packages \n",
        "import pandas as pd\n",
        "import matplotlib.pyplot as plt\n",
        "import seaborn as sns"
      ],
      "execution_count": 20,
      "outputs": []
    },
    {
      "cell_type": "markdown",
      "metadata": {
        "id": "HUAuvjEQvP73"
      },
      "source": [
        "#### 1. Import and Describe Data\n"
      ]
    },
    {
      "cell_type": "code",
      "metadata": {
        "colab": {
          "base_uri": "https://localhost:8080/",
          "height": 204
        },
        "id": "kYJkBYXlbvgs",
        "outputId": "005dcba5-25f6-45ab-c987-ba68a8faffb8"
      },
      "source": [
        "#read in data\n",
        "medinsurance = pd.read_csv('https://raw.githubusercontent.com/chopraritika19/personal/main/insurance.csv')\n",
        "medinsurance.head()"
      ],
      "execution_count": 6,
      "outputs": [
        {
          "output_type": "execute_result",
          "data": {
            "text/html": [
              "<div>\n",
              "<style scoped>\n",
              "    .dataframe tbody tr th:only-of-type {\n",
              "        vertical-align: middle;\n",
              "    }\n",
              "\n",
              "    .dataframe tbody tr th {\n",
              "        vertical-align: top;\n",
              "    }\n",
              "\n",
              "    .dataframe thead th {\n",
              "        text-align: right;\n",
              "    }\n",
              "</style>\n",
              "<table border=\"1\" class=\"dataframe\">\n",
              "  <thead>\n",
              "    <tr style=\"text-align: right;\">\n",
              "      <th></th>\n",
              "      <th>age</th>\n",
              "      <th>sex</th>\n",
              "      <th>bmi</th>\n",
              "      <th>children</th>\n",
              "      <th>smoker</th>\n",
              "      <th>region</th>\n",
              "      <th>charges</th>\n",
              "    </tr>\n",
              "  </thead>\n",
              "  <tbody>\n",
              "    <tr>\n",
              "      <th>0</th>\n",
              "      <td>19</td>\n",
              "      <td>female</td>\n",
              "      <td>27.900</td>\n",
              "      <td>0</td>\n",
              "      <td>yes</td>\n",
              "      <td>southwest</td>\n",
              "      <td>16884.92400</td>\n",
              "    </tr>\n",
              "    <tr>\n",
              "      <th>1</th>\n",
              "      <td>18</td>\n",
              "      <td>male</td>\n",
              "      <td>33.770</td>\n",
              "      <td>1</td>\n",
              "      <td>no</td>\n",
              "      <td>southeast</td>\n",
              "      <td>1725.55230</td>\n",
              "    </tr>\n",
              "    <tr>\n",
              "      <th>2</th>\n",
              "      <td>28</td>\n",
              "      <td>male</td>\n",
              "      <td>33.000</td>\n",
              "      <td>3</td>\n",
              "      <td>no</td>\n",
              "      <td>southeast</td>\n",
              "      <td>4449.46200</td>\n",
              "    </tr>\n",
              "    <tr>\n",
              "      <th>3</th>\n",
              "      <td>33</td>\n",
              "      <td>male</td>\n",
              "      <td>22.705</td>\n",
              "      <td>0</td>\n",
              "      <td>no</td>\n",
              "      <td>northwest</td>\n",
              "      <td>21984.47061</td>\n",
              "    </tr>\n",
              "    <tr>\n",
              "      <th>4</th>\n",
              "      <td>32</td>\n",
              "      <td>male</td>\n",
              "      <td>28.880</td>\n",
              "      <td>0</td>\n",
              "      <td>no</td>\n",
              "      <td>northwest</td>\n",
              "      <td>3866.85520</td>\n",
              "    </tr>\n",
              "  </tbody>\n",
              "</table>\n",
              "</div>"
            ],
            "text/plain": [
              "   age     sex     bmi  children smoker     region      charges\n",
              "0   19  female  27.900         0    yes  southwest  16884.92400\n",
              "1   18    male  33.770         1     no  southeast   1725.55230\n",
              "2   28    male  33.000         3     no  southeast   4449.46200\n",
              "3   33    male  22.705         0     no  northwest  21984.47061\n",
              "4   32    male  28.880         0     no  northwest   3866.85520"
            ]
          },
          "metadata": {
            "tags": []
          },
          "execution_count": 6
        }
      ]
    },
    {
      "cell_type": "code",
      "metadata": {
        "colab": {
          "base_uri": "https://localhost:8080/"
        },
        "id": "y_XwUtK_cUph",
        "outputId": "91d2b5f0-114a-4661-a42f-3ed1a958efb2"
      },
      "source": [
        "#get information on data (such as number of observations and variables)\n",
        "medinsurance.info()"
      ],
      "execution_count": 7,
      "outputs": [
        {
          "output_type": "stream",
          "text": [
            "<class 'pandas.core.frame.DataFrame'>\n",
            "RangeIndex: 1338 entries, 0 to 1337\n",
            "Data columns (total 7 columns):\n",
            " #   Column    Non-Null Count  Dtype  \n",
            "---  ------    --------------  -----  \n",
            " 0   age       1338 non-null   int64  \n",
            " 1   sex       1338 non-null   object \n",
            " 2   bmi       1338 non-null   float64\n",
            " 3   children  1338 non-null   int64  \n",
            " 4   smoker    1338 non-null   object \n",
            " 5   region    1338 non-null   object \n",
            " 6   charges   1338 non-null   float64\n",
            "dtypes: float64(2), int64(2), object(3)\n",
            "memory usage: 73.3+ KB\n"
          ],
          "name": "stdout"
        }
      ]
    },
    {
      "cell_type": "markdown",
      "metadata": {
        "id": "TPwxNcBDUPQb"
      },
      "source": [
        "This dataset provides information about 1338 different healthcare beneficiaries and information related to their health and medical bills. There are 1338 observations in this data set, with 7 total columns."
      ]
    },
    {
      "cell_type": "markdown",
      "metadata": {
        "id": "eTKVWuWcvE3W"
      },
      "source": [
        "#### 2. Categorical Variables - Statistics and Visualizations\n"
      ]
    },
    {
      "cell_type": "code",
      "metadata": {
        "colab": {
          "base_uri": "https://localhost:8080/"
        },
        "id": "8YbK6CoEcF--",
        "outputId": "d52790bc-7105-49fe-9de8-b15ed76c758a"
      },
      "source": [
        "#Frequency counts of sex\n",
        "medinsurance['sex'].value_counts()"
      ],
      "execution_count": 8,
      "outputs": [
        {
          "output_type": "execute_result",
          "data": {
            "text/plain": [
              "male      676\n",
              "female    662\n",
              "Name: sex, dtype: int64"
            ]
          },
          "metadata": {
            "tags": []
          },
          "execution_count": 8
        }
      ]
    },
    {
      "cell_type": "markdown",
      "metadata": {
        "id": "7zv64NMKvaps"
      },
      "source": [
        "There are 676 male health insurance beneficiaries and 662 male health insurance beneficiaries."
      ]
    },
    {
      "cell_type": "code",
      "metadata": {
        "colab": {
          "base_uri": "https://localhost:8080/"
        },
        "id": "bwWGpM-GcfWQ",
        "outputId": "360847e3-2161-46e3-f555-1e58916c1793"
      },
      "source": [
        "#Frequency counts of smokers\n",
        "medinsurance['smoker'].value_counts()"
      ],
      "execution_count": 9,
      "outputs": [
        {
          "output_type": "execute_result",
          "data": {
            "text/plain": [
              "no     1064\n",
              "yes     274\n",
              "Name: smoker, dtype: int64"
            ]
          },
          "metadata": {
            "tags": []
          },
          "execution_count": 9
        }
      ]
    },
    {
      "cell_type": "markdown",
      "metadata": {
        "id": "u8H0la1BUs_-"
      },
      "source": [
        "There are 1064 non-smokers in this dataset and 274 smokers."
      ]
    },
    {
      "cell_type": "code",
      "metadata": {
        "colab": {
          "base_uri": "https://localhost:8080/",
          "height": 326
        },
        "id": "IWLSpf_qg9uX",
        "outputId": "63c43701-5f75-4515-d6cb-092e1ec7f065"
      },
      "source": [
        "# Create a pie chart to display proportions\n",
        "medinsurance['sex'].value_counts() \\\n",
        ".plot(kind = \"pie\") \\\n",
        ".axis('equal') # equal aspect ratio"
      ],
      "execution_count": 12,
      "outputs": [
        {
          "output_type": "execute_result",
          "data": {
            "text/plain": [
              "(-1.1040121656056667,\n",
              " 1.1001910555050318,\n",
              " -1.104486483140735,\n",
              " 1.1023569618236218)"
            ]
          },
          "metadata": {
            "tags": []
          },
          "execution_count": 12
        },
        {
          "output_type": "display_data",
          "data": {
            "image/png": "[encoded data removed]",
            "text/plain": [
              "<Figure size 432x288 with 1 Axes>"
            ]
          },
          "metadata": {
            "tags": []
          }
        }
      ]
    },
    {
      "cell_type": "markdown",
      "metadata": {
        "id": "uJT9r3p5uptn"
      },
      "source": [
        "There appears to be a largely equal distribution between male and female health insurance beneficiaries, with males making up a slightly higher proportion."
      ]
    },
    {
      "cell_type": "code",
      "metadata": {
        "colab": {
          "base_uri": "https://localhost:8080/",
          "height": 316
        },
        "id": "ItjwsTnZhE-K",
        "outputId": "57cdaaef-3746-4840-90ca-7f1a1372664e"
      },
      "source": [
        "# Create a pie chart to display proportion \n",
        "medinsurance['smoker'].value_counts() \\\n",
        ".plot(kind = \"pie\") \\\n",
        ".axis('equal') # equal aspect ratio"
      ],
      "execution_count": 13,
      "outputs": [
        {
          "output_type": "execute_result",
          "data": {
            "text/plain": [
              "(-1.1018718496698334,\n",
              " 1.1000891356985636,\n",
              " -1.1027154146109623,\n",
              " 1.1011093550812814)"
            ]
          },
          "metadata": {
            "tags": []
          },
          "execution_count": 13
        },
        {
          "output_type": "display_data",
          "data": {
            "image/png": "[encoded data removed]",
            "text/plain": [
              "<Figure size 432x288 with 1 Axes>"
            ]
          },
          "metadata": {
            "tags": []
          }
        }
      ]
    },
    {
      "cell_type": "markdown",
      "metadata": {
        "id": "ECz5BfAjtQIn"
      },
      "source": [
        "The majority of health insurance beneficiaries are not smokers. "
      ]
    },
    {
      "cell_type": "markdown",
      "metadata": {
        "id": "9FFk5ZbNVSjs"
      },
      "source": [
        "#### 2. Quantitative Variables - Statistics and Visualizations"
      ]
    },
    {
      "cell_type": "code",
      "metadata": {
        "colab": {
          "base_uri": "https://localhost:8080/",
          "height": 173
        },
        "id": "qljw-k0xiAHT",
        "outputId": "27fadc6c-2798-4f6a-f3e4-6abab24fec78"
      },
      "source": [
        "#Find average charges and their standard deviations for both males and females\n",
        "(medinsurance.filter(['sex', 'charges'])\n",
        ".groupby(['sex'])\n",
        ".agg(['mean','std'])\n",
        ".sort_values(by = ('sex'), ascending = False)\n",
        ")"
      ],
      "execution_count": 17,
      "outputs": [
        {
          "output_type": "execute_result",
          "data": {
            "text/html": [
              "<div>\n",
              "<style scoped>\n",
              "    .dataframe tbody tr th:only-of-type {\n",
              "        vertical-align: middle;\n",
              "    }\n",
              "\n",
              "    .dataframe tbody tr th {\n",
              "        vertical-align: top;\n",
              "    }\n",
              "\n",
              "    .dataframe thead tr th {\n",
              "        text-align: left;\n",
              "    }\n",
              "\n",
              "    .dataframe thead tr:last-of-type th {\n",
              "        text-align: right;\n",
              "    }\n",
              "</style>\n",
              "<table border=\"1\" class=\"dataframe\">\n",
              "  <thead>\n",
              "    <tr>\n",
              "      <th></th>\n",
              "      <th colspan=\"2\" halign=\"left\">charges</th>\n",
              "    </tr>\n",
              "    <tr>\n",
              "      <th></th>\n",
              "      <th>mean</th>\n",
              "      <th>std</th>\n",
              "    </tr>\n",
              "    <tr>\n",
              "      <th>sex</th>\n",
              "      <th></th>\n",
              "      <th></th>\n",
              "    </tr>\n",
              "  </thead>\n",
              "  <tbody>\n",
              "    <tr>\n",
              "      <th>male</th>\n",
              "      <td>13956.751178</td>\n",
              "      <td>12971.025915</td>\n",
              "    </tr>\n",
              "    <tr>\n",
              "      <th>female</th>\n",
              "      <td>12569.578844</td>\n",
              "      <td>11128.703801</td>\n",
              "    </tr>\n",
              "  </tbody>\n",
              "</table>\n",
              "</div>"
            ],
            "text/plain": [
              "             charges              \n",
              "                mean           std\n",
              "sex                               \n",
              "male    13956.751178  12971.025915\n",
              "female  12569.578844  11128.703801"
            ]
          },
          "metadata": {
            "tags": []
          },
          "execution_count": 17
        }
      ]
    },
    {
      "cell_type": "markdown",
      "metadata": {
        "id": "pLXFPca-kHZp"
      },
      "source": [
        "The mean medical costs billed by health insurance for male beneficiaries is ```$```13,956.75 with a standard deviation of ```$```12,971.03. The mean medical costs billed by health insurance for female beneficiaries is ```$```12,569.58 with a standard deviation of ```$```11,128.70. On average, it appears that men have slightly higher medical bills than their female counterparts."
      ]
    },
    {
      "cell_type": "code",
      "metadata": {
        "colab": {
          "base_uri": "https://localhost:8080/",
          "height": 330
        },
        "id": "v8A4X0OMmgiq",
        "outputId": "43252600-57c8-4c3c-ad02-ad523caff2fe"
      },
      "source": [
        "#create histogram of medical charges, faceted by sex\n",
        "(sns.FacetGrid(data = medinsurance, \n",
        "               col = 'sex') \n",
        " .map(sns.distplot, # type of plot\n",
        "      'charges', # represents the values of the variable mm\n",
        "      hist = True, # in a histogram\n",
        "      bins = 20)) # the histograms have a binwidth of 20"
      ],
      "execution_count": 24,
      "outputs": [
        {
          "output_type": "stream",
          "text": [
            "/usr/local/lib/python3.7/dist-packages/seaborn/distributions.py:2557: FutureWarning: `distplot` is a deprecated function and will be removed in a future version. Please adapt your code to use either `displot` (a figure-level function with similar flexibility) or `histplot` (an axes-level function for histograms).\n",
            "  warnings.warn(msg, FutureWarning)\n",
            "/usr/local/lib/python3.7/dist-packages/seaborn/distributions.py:2557: FutureWarning: `distplot` is a deprecated function and will be removed in a future version. Please adapt your code to use either `displot` (a figure-level function with similar flexibility) or `histplot` (an axes-level function for histograms).\n",
            "  warnings.warn(msg, FutureWarning)\n"
          ],
          "name": "stderr"
        },
        {
          "output_type": "execute_result",
          "data": {
            "text/plain": [
              "<seaborn.axisgrid.FacetGrid at 0x7f87de71f1d0>"
            ]
          },
          "metadata": {
            "tags": []
          },
          "execution_count": 24
        },
        {
          "output_type": "display_data",
          "data": {
            "image/png": "[encoded data removed]",
            "text/plain": [
              "<Figure size 432x216 with 2 Axes>"
            ]
          },
          "metadata": {
            "tags": [],
            "needs_background": "light"
          }
        }
      ]
    },
    {
      "cell_type": "markdown",
      "metadata": {
        "id": "6Kjrgzlaq7cL"
      },
      "source": [
        "There appears to be a similar distribution of medical charges for both male beneficiaries and female beneficiaries, with males appearing to be centered at a slightly higher value."
      ]
    },
    {
      "cell_type": "code",
      "metadata": {
        "colab": {
          "base_uri": "https://localhost:8080/",
          "height": 400
        },
        "id": "xA7H3UNGnrm0",
        "outputId": "0d8638c5-cb07-40da-fd19-22dd283446fe"
      },
      "source": [
        "#create palette \n",
        "pal = dict(male=\"#e7dbdb\", female=\"#c4cabf\")\n",
        "\n",
        "#create Charges vs. BMI plot with line of best fit for males and females\n",
        "g = sns.lmplot(x=\"bmi\", y=\"charges\", col=\"sex\", hue=\"sex\", data=medinsurance,\n",
        "               palette=pal, y_jitter=.02, logistic=False, truncate=False)\n",
        "g.set(xlim=(0, 40), ylim=(0, 65000))"
      ],
      "execution_count": 32,
      "outputs": [
        {
          "output_type": "execute_result",
          "data": {
            "text/plain": [
              "<seaborn.axisgrid.FacetGrid at 0x7f87cda3d850>"
            ]
          },
          "metadata": {
            "tags": []
          },
          "execution_count": 32
        },
        {
          "output_type": "display_data",
          "data": {
            "image/png": "[encoded data removed]",
            "text/plain": [
              "<Figure size 720x360 with 2 Axes>"
            ]
          },
          "metadata": {
            "tags": [],
            "needs_background": "light"
          }
        }
      ]
    },
    {
      "cell_type": "markdown",
      "metadata": {
        "id": "188E-IzQq4xI"
      },
      "source": [
        "There appears to be a higher rate of change between charges and BMI for male beneficiaries and female beneficiaries, as seen by the steeper slope in the line of best fit for male beneficiaries. This means that for one unit increase in BMI, males see a greater increase in predicted charge for a health bill than females.\n"
      ]
    }
  ]
}